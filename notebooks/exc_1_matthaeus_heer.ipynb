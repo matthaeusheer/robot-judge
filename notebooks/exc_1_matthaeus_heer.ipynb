{
 "cells": [
  {
   "cell_type": "markdown",
   "metadata": {},
   "source": [
    "# Import section"
   ]
  },
  {
   "cell_type": "code",
   "execution_count": 14,
   "metadata": {},
   "outputs": [
    {
     "name": "stdout",
     "output_type": "stream",
     "text": [
      "The autoreload extension is already loaded. To reload it, use:\n",
      "  %reload_ext autoreload\n"
     ]
    }
   ],
   "source": [
    "%load_ext autoreload\n",
    "%autoreload 2\n",
    "\n",
    "import os\n",
    "import random\n",
    "from collections import Counter\n",
    "\n",
    "import spacy\n",
    "import nltk\n",
    "from nltk.corpus import stopwords\n",
    "import pandas as pd\n",
    "from glob import glob\n",
    "import matplotlib.pyplot as plt\n",
    "\n",
    "from context import robot_judge  # Now we can use all the handy robot_judge functionality :-)\n",
    "from robot_judge.nlp.language_models import spacy_nlp, stop_words"
   ]
  },
  {
   "cell_type": "markdown",
   "metadata": {},
   "source": [
    "# How-To\n",
    "\n",
    "1) In the repo root directory there is a folder called _data_.  \n",
    "2) Go there and create a folder called *assignment_1* (or whatever the DATA_DIR_NAME variable below is assigned to).   \n",
    "3) Place all cases files (*1936_X9VD8L.txt*, ...) in there.  \n",
    "4) Place the *case_reversed.csv* file in there.  \n",
    "5) Run the code below.  "
   ]
  },
  {
   "cell_type": "code",
   "execution_count": 2,
   "metadata": {},
   "outputs": [],
   "source": [
    "from robot_judge.io import ProblemSet1Io"
   ]
  },
  {
   "cell_type": "code",
   "execution_count": 8,
   "metadata": {},
   "outputs": [],
   "source": [
    "N_SAMPLED_CASES = 3\n",
    "DATA_DIR_NAME = 'assignment_1'"
   ]
  },
  {
   "cell_type": "code",
   "execution_count": 9,
   "metadata": {},
   "outputs": [],
   "source": [
    "io = ProblemSet1Io(data_dir=DATA_DIR_NAME)\n",
    "sampled_cases = io.read_multiple_cases_files(n_samples=N_SAMPLED_CASES)"
   ]
  },
  {
   "cell_type": "markdown",
   "metadata": {},
   "source": [
    "# Task 1\n",
    "## Compute sentece, words and letters count per document and plot vs year"
   ]
  },
  {
   "cell_type": "code",
   "execution_count": 17,
   "metadata": {},
   "outputs": [
    {
     "data": {
      "image/png": "[encoded data removed]",
      "text/plain": [
       "<Figure size 936x576 with 3 Axes>"
      ]
     },
     "metadata": {
      "needs_background": "light"
     },
     "output_type": "display_data"
    },
    {
     "name": "stdout",
     "output_type": "stream",
     "text": [
      "CPU times: user 4.75 s, sys: 901 ms, total: 5.65 s\n",
      "Wall time: 3.38 s\n"
     ]
    }
   ],
   "source": [
    "%%time\n",
    "\n",
    "from robot_judge.exploration.corpus_analysis import count_words_sents_letters\n",
    "from robot_judge.exploration.corpus_analysis import visualize_counts\n",
    "# Takes ~5min for 100 cases.\n",
    "\n",
    "years, word_counts, sents_counts, letters_counts = count_words_sents_letters(sampled_cases, extract_years=True)\n",
    "visualize_counts(years, word_counts, sents_counts, letters_counts)"
   ]
  },
  {
   "cell_type": "code",
   "execution_count": null,
   "metadata": {},
   "outputs": [],
   "source": []
  },
  {
   "cell_type": "markdown",
   "metadata": {},
   "source": [
    "# Task 2\n",
    "## Plot part-of-speech (POS) tagging frequency vs year"
   ]
  },
  {
   "cell_type": "code",
   "execution_count": null,
   "metadata": {},
   "outputs": [],
   "source": [
    "%%time\n",
    "\n",
    "years = []\n",
    "pos_tags = []\n",
    "\n",
    "for case_title, case_text in cases_dict.items():\n",
    "    year = get_year_from_case_title(case_title)\n",
    "    years.append(year)\n",
    "    \n",
    "    pos_tags_ = [token.pos_ for token in spacy_doc(case_text)]\n",
    "    pos_tags.append(pos_tags_)"
   ]
  },
  {
   "cell_type": "code",
   "execution_count": null,
   "metadata": {},
   "outputs": [],
   "source": [
    "def normalize_counter(counter: Counter) -> Counter:\n",
    "    \"\"\"Normalizes a counter such that relative frequency is expressed rather than absolute counts.\"\"\"\n",
    "    total = sum(counter.values(), 0.0)\n",
    "    for key in counter:\n",
    "        counter[key] /= total\n",
    "    return counter"
   ]
  },
  {
   "cell_type": "code",
   "execution_count": null,
   "metadata": {},
   "outputs": [],
   "source": [
    "sorted_set_years = sorted(set(years))\n",
    "avg_year_counters = []\n",
    "\n",
    "for year in sorted_set_years:\n",
    "    \n",
    "    pos_counter = Counter()\n",
    "    n_samples_this_year = 0\n",
    "    \n",
    "    for idx, year_orig in enumerate(years):\n",
    "        if year_orig == year:\n",
    "            pos_counter += Counter(pos_tags[idx])\n",
    "            n_samples_this_year += 1\n",
    "    \n",
    "    # Normalizing the counter\n",
    "    pos_counter = normalize_counter(pos_counter)\n",
    "    \n",
    "    avg_year_counters.append(pos_counter)\n",
    "        \n",
    "pos_df = pd.DataFrame(avg_year_counters, index=sorted_set_years)  "
   ]
  },
  {
   "cell_type": "code",
   "execution_count": null,
   "metadata": {},
   "outputs": [],
   "source": [
    "fig = plt.figure()\n",
    "\n",
    "ax = pos_df.plot(figsize=(15,8), legend=False)\n",
    "\n",
    "for line, name in zip(ax.lines, pos_df.columns):\n",
    "    y = line.get_ydata()[-1]\n",
    "    ax.annotate(name, xy=(1,y), xytext=(6,0), color=line.get_color(), \n",
    "                xycoords = ax.get_yaxis_transform(), textcoords=\"offset points\",\n",
    "                size=14, va=\"center\")\n",
    "\n",
    "for spine in ax.spines.values():\n",
    "    spine.set_visible(False)\n",
    "    \n",
    "ax.set_ylabel('Average counts frequency for POS tag')\n",
    "ax.set_xlabel('Year')\n",
    "\n",
    "\n",
    "plt.show()"
   ]
  },
  {
   "cell_type": "markdown",
   "metadata": {},
   "source": [
    "# Task 3 \n",
    "## Corpus normalization / cleaning & trigram creation"
   ]
  },
  {
   "cell_type": "code",
   "execution_count": null,
   "metadata": {},
   "outputs": [],
   "source": []
  },
  {
   "cell_type": "markdown",
   "metadata": {},
   "source": [
    "# Task 4\n",
    "## Create data frame of features"
   ]
  },
  {
   "cell_type": "code",
   "execution_count": null,
   "metadata": {},
   "outputs": [],
   "source": []
  },
  {
   "cell_type": "markdown",
   "metadata": {},
   "source": [
    "# Task 5\n",
    "## Create training / test set"
   ]
  },
  {
   "cell_type": "code",
   "execution_count": null,
   "metadata": {},
   "outputs": [],
   "source": []
  },
  {
   "cell_type": "markdown",
   "metadata": {},
   "source": [
    "# Task 6\n",
    "## GridsearchCV and ROC / AUC evaluation"
   ]
  },
  {
   "cell_type": "code",
   "execution_count": null,
   "metadata": {},
   "outputs": [],
   "source": []
  },
  {
   "cell_type": "markdown",
   "metadata": {},
   "source": [
    "# Task 7 \n",
    "## Vader compound sentiment scores"
   ]
  },
  {
   "cell_type": "code",
   "execution_count": null,
   "metadata": {},
   "outputs": [],
   "source": []
  },
  {
   "cell_type": "markdown",
   "metadata": {},
   "source": [
    "# Task 8\n",
    "## tf-idf vectorizer and sentence similarity"
   ]
  },
  {
   "cell_type": "code",
   "execution_count": null,
   "metadata": {},
   "outputs": [],
   "source": []
  },
  {
   "cell_type": "markdown",
   "metadata": {},
   "source": [
    "# Task 9\n",
    "## K-means clustering of sentences"
   ]
  },
  {
   "cell_type": "code",
   "execution_count": null,
   "metadata": {},
   "outputs": [],
   "source": []
  },
  {
   "cell_type": "markdown",
   "metadata": {},
   "source": [
    "# Testing"
   ]
  },
  {
   "cell_type": "code",
   "execution_count": null,
   "metadata": {},
   "outputs": [],
   "source": [
    "test_doc = spacy_doc(read_file('1934_X3ITKT.txt'))"
   ]
  },
  {
   "cell_type": "code",
   "execution_count": null,
   "metadata": {},
   "outputs": [],
   "source": [
    "test_doc = remove_punct_and_sym(test_doc)\n",
    "test_doc = remove_ws_tokens(test_doc)\n",
    "test_doc = lemmatize(test_doc)\n",
    "no_stop = remove_stopwords(test_doc)"
   ]
  },
  {
   "cell_type": "code",
   "execution_count": null,
   "metadata": {},
   "outputs": [],
   "source": [
    "pos_tags_1 = []\n",
    "for token in test_doc:\n",
    "    pos_tags_1.append(token.pos_)"
   ]
  },
  {
   "cell_type": "code",
   "execution_count": null,
   "metadata": {},
   "outputs": [],
   "source": [
    "Counter(pos_tags_1)"
   ]
  },
  {
   "cell_type": "code",
   "execution_count": null,
   "metadata": {},
   "outputs": [],
   "source": [
    "Counter(pos_tags) + Counter(pos_tags_1)"
   ]
  },
  {
   "cell_type": "code",
   "execution_count": null,
   "metadata": {},
   "outputs": [],
   "source": []
  }
 ],
 "metadata": {
  "kernelspec": {
   "display_name": "Python skills_ml",
   "language": "python",
   "name": "skills_ml_env"
  },
  "language_info": {
   "codemirror_mode": {
    "name": "ipython",
    "version": 3
   },
   "file_extension": ".py",
   "mimetype": "text/x-python",
   "name": "python",
   "nbconvert_exporter": "python",
   "pygments_lexer": "ipython3",
   "version": "3.6.0"
  }
 },
 "nbformat": 4,
 "nbformat_minor": 2
}
