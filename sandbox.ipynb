{
 "cells": [
  {
   "cell_type": "code",
   "execution_count": 42,
   "metadata": {},
   "outputs": [],
   "source": [
    "from time import time\n",
    "from functools import wraps"
   ]
  },
  {
   "cell_type": "code",
   "execution_count": 45,
   "metadata": {},
   "outputs": [
    {
     "name": "stdout",
     "output_type": "stream",
     "text": [
      "My message.\n",
      "Ran func: printer in 0.1990795135498047 ms.\n"
     ]
    }
   ],
   "source": [
    "def timer(orig_func):\n",
    "    @wraps(orig_func)\n",
    "    def wrapper(*args, **kwargs):\n",
    "        start = time()\n",
    "        res = orig_func(*args, **kwargs)\n",
    "        end = time()\n",
    "        print(f'Ran func: {orig_func.__name__} in {(end - start) * 1000} ms.')\n",
    "        return res\n",
    "    return wrapper\n",
    "\n",
    "@timer\n",
    "def printer(msg):\n",
    "    print(msg)\n",
    "    \n",
    "printer('My message.')"
   ]
  },
  {
   "cell_type": "code",
   "execution_count": 39,
   "metadata": {},
   "outputs": [
    {
     "name": "stdout",
     "output_type": "stream",
     "text": [
      "doing it\n",
      "Ran func: another_printer in 0.15115737915039062 ms.\n"
     ]
    }
   ],
   "source": [
    "class decorator_class:\n",
    "    def __init__(self, orig_func):\n",
    "        self.orig_func = orig_func\n",
    "    \n",
    "    def __call__(self, *args, **kwargs):\n",
    "        start = time()\n",
    "        res = self.orig_func(*args, **kwargs)\n",
    "        end = time()\n",
    "        print(f'Ran func: {self.orig_func.__name__} in {(end - start) * 1000} ms.')\n",
    "        return res\n",
    "\n",
    "@decorator_class\n",
    "def another_printer(msg):\n",
    "    print(msg)\n",
    "        \n",
    "another_printer('doing it')"
   ]
  },
  {
   "cell_type": "code",
   "execution_count": 40,
   "metadata": {},
   "outputs": [],
   "source": [
    "import numpy as np"
   ]
  },
  {
   "cell_type": "code",
   "execution_count": 41,
   "metadata": {},
   "outputs": [
    {
     "name": "stdout",
     "output_type": "stream",
     "text": [
      "hello\n",
      "Ran func: printer in 0.22292137145996094 ms.\n",
      "hello\n",
      "Ran func: another_printer in 0.023126602172851562 ms.\n",
      "hello\n",
      "Ran func: printer in 0.022172927856445312 ms.\n",
      "hello\n",
      "Ran func: another_printer in 0.02193450927734375 ms.\n",
      "hello\n",
      "Ran func: printer in 0.021219253540039062 ms.\n",
      "hello\n",
      "Ran func: another_printer in 0.0209808349609375 ms.\n",
      "hello\n",
      "Ran func: printer in 0.0209808349609375 ms.\n",
      "hello\n",
      "Ran func: another_printer in 0.02193450927734375 ms.\n",
      "hello\n",
      "Ran func: printer in 0.022172927856445312 ms.\n",
      "hello\n",
      "Ran func: another_printer in 0.0209808349609375 ms.\n",
      "hello\n",
      "Ran func: printer in 0.02288818359375 ms.\n",
      "hello\n",
      "Ran func: another_printer in 0.02193450927734375 ms.\n",
      "hello\n",
      "Ran func: printer in 0.025033950805664062 ms.\n",
      "hello\n",
      "Ran func: another_printer in 0.0209808349609375 ms.\n",
      "hello\n",
      "Ran func: printer in 0.02193450927734375 ms.\n",
      "hello\n",
      "Ran func: another_printer in 0.022172927856445312 ms.\n",
      "hello\n",
      "Ran func: printer in 0.02574920654296875 ms.\n",
      "hello\n",
      "Ran func: another_printer in 0.025033950805664062 ms.\n",
      "hello\n",
      "Ran func: printer in 0.02193450927734375 ms.\n",
      "hello\n",
      "Ran func: another_printer in 0.0209808349609375 ms.\n"
     ]
    }
   ],
   "source": [
    "for i in range(10):\n",
    "    printer('hello')\n",
    "    another_printer('hello')"
   ]
  },
  {
   "cell_type": "code",
   "execution_count": null,
   "metadata": {},
   "outputs": [],
   "source": []
  }
 ],
 "metadata": {
  "kernelspec": {
   "display_name": "Python skills_ml",
   "language": "python",
   "name": "skills_ml_env"
  },
  "language_info": {
   "codemirror_mode": {
    "name": "ipython",
    "version": 3
   },
   "file_extension": ".py",
   "mimetype": "text/x-python",
   "name": "python",
   "nbconvert_exporter": "python",
   "pygments_lexer": "ipython3",
   "version": "3.6.0"
  }
 },
 "nbformat": 4,
 "nbformat_minor": 2
}
